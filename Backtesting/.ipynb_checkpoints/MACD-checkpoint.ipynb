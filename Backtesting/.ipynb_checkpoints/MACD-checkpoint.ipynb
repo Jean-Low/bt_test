{
 "cells": [
  {
   "cell_type": "code",
   "execution_count": 2,
   "metadata": {},
   "outputs": [],
   "source": [
    "from backtesting import evaluateTick\n",
    "from strategy import Strategy\n",
    "from order import Order\n",
    "from event import Event\n",
    "\n",
    "import matplotlib.pyplot as plt\n",
    "\n",
    "import numpy as np\n"
   ]
  },
  {
   "cell_type": "code",
   "execution_count": 10,
   "metadata": {},
   "outputs": [
    {
     "name": "stdout",
     "output_type": "stream",
     "text": [
      "b\n",
      "s\n",
      "b\n",
      "Number of trades: 2\n",
      "Gross P&L: -29.00\n",
      "Gross Accumulated return: -0.67%\n",
      "Gross Average Return: -0.67%\n",
      "Net P&L: -31.09\n",
      "Hitting ratio: 0.00%\n",
      "Max Profit: 6.00\n",
      "Max Drawdown: -35.00\n",
      "\n"
     ]
    }
   ],
   "source": [
    "class MACDTick(Strategy):\n",
    "  \n",
    "  def __init__(self):\n",
    "    self.flag = 0\n",
    "    self.short = 1200 #change it (Ticks dont happens on a fixed time)\n",
    "    self.long = 2600 #change it\n",
    "    self.emat = 900 #EMA time\n",
    "    self.signal = 0\n",
    "    \n",
    "    self.price_hist = []\n",
    "    self.mas_hist = []\n",
    "    self.mal_hist = []\n",
    "    self.delta_hist = []\n",
    "    self.signal_hist = []\n",
    "    \n",
    "\n",
    "  def push(self, event):\n",
    "    if event.type == Event.TRADE:\n",
    "    \n",
    "      price = event.price\n",
    "      self.price_hist.append(price)\n",
    "      orders = []\n",
    "\n",
    "      if len(self.price_hist) >= self.long:\n",
    "        \n",
    "        #set avarages\n",
    "        lavg = sum(self.price_hist[-self.long:])/self.long\n",
    "        savg = sum(self.price_hist[-self.short:])/self.short\n",
    "        \n",
    "        #set MACD\n",
    "        delta = savg - lavg\n",
    "        \n",
    "        #set EMA (Signal)    ema(t) = price - avg9 * (2 / (9 + 1)) + ema(t-1)\n",
    "        self.signal = (price - (sum(self.price_hist[-self.emat:]) /self.emat)) * 0.2 + self.signal\n",
    "        \n",
    "        #update history\n",
    "        self.mas_hist.append(savg)\n",
    "        self.mal_hist.append(lavg)\n",
    "        self.delta_hist.append(delta)\n",
    "        self.signal_hist.append(self.signal)\n",
    "        \n",
    "        \n",
    "        #use signal to buy or sell\n",
    "        #flag is 0 when macd is under signal\n",
    "        \n",
    "        if(self.flag):\n",
    "            #was there a upward crossing?\n",
    "            if(delta < self.signal):\n",
    "                self.flag = 0\n",
    "                orders.append(Order(event.instrument, -100, 0))\n",
    "                print(\"s\")\n",
    "        else:\n",
    "            #was there a downwards crossing?\n",
    "            if(delta > self.signal):\n",
    "                self.flag = 1\n",
    "                orders.append(Order(event.instrument, 100, 0))\n",
    "                print(\"b\")\n",
    "        #print(delta , \" d \" , self.signal)\n",
    "        #return\n",
    "        return orders\n",
    "    \n",
    "    return []\n",
    "\n",
    "\n",
    "data = MACDTick()\n",
    "\n",
    "print(evaluateTick(data, {'PETR4':'2018-03-07.csv'}))"
   ]
  },
  {
   "cell_type": "code",
   "execution_count": 13,
   "metadata": {},
   "outputs": [
    {
     "data": {
      "text/plain": [
       "[<matplotlib.lines.Line2D at 0x7f809a406b00>]"
      ]
     },
     "execution_count": 13,
     "metadata": {},
     "output_type": "execute_result"
    },
    {
     "data": {
      "image/png": "[encoded data removed]",
      "text/plain": [
       "<Figure size 432x288 with 1 Axes>"
      ]
     },
     "metadata": {
      "needs_background": "light"
     },
     "output_type": "display_data"
    }
   ],
   "source": [
    "plt.plot(data.delta_hist)\n",
    "plt.plot(data.price_hist)\n",
    "plt.plot(data.signal_hist)"
   ]
  },
  {
   "cell_type": "code",
   "execution_count": null,
   "metadata": {},
   "outputs": [],
   "source": []
  }
 ],
 "metadata": {
  "kernelspec": {
   "display_name": "Python 3",
   "language": "python",
   "name": "python3"
  },
  "language_info": {
   "codemirror_mode": {
    "name": "ipython",
    "version": 3
   },
   "file_extension": ".py",
   "mimetype": "text/x-python",
   "name": "python",
   "nbconvert_exporter": "python",
   "pygments_lexer": "ipython3",
   "version": "3.6.8"
  }
 },
 "nbformat": 4,
 "nbformat_minor": 2
}
